{
 "cells": [
  {
   "cell_type": "code",
   "execution_count": 2,
   "id": "fcdd675f",
   "metadata": {},
   "outputs": [],
   "source": [
    "# import library opencv \n",
    "import cv2\n",
    "import numpy as np"
   ]
  },
  {
   "cell_type": "code",
   "execution_count": 13,
   "id": "b6f24e78",
   "metadata": {},
   "outputs": [],
   "source": [
    "\n",
    "# baca aloritma HAAR face Cascades\n",
    "face_cascade = cv2.CascadeClassifier(cv2.data.haarcascades + 'haarcascade_frontalface_default.xml')\n",
    "#baca algoritma HAAR eye cascades \n",
    "eye_cascade = cv2.CascadeClassifier(cv2.data.haarcascades + 'haarcascade_eye.xml')\n",
    "#baca algoritma HAAR mouth cascades\n",
    "mouth_cascade = cv2.CascadeClassifier('Mouth.xml')\n",
    "\n",
    "# buka webcam dan baca setiap frame.\n",
    "video_cam = cv2.VideoCapture(0)\n",
    "while True:\n",
    "    # fungsi deteksi wajah pada opencv\n",
    "    ret, frame = video_cam.read()\n",
    "    # konversi gambar ke grayscale\n",
    "    gambar = cv2.cvtColor(frame, cv2.COLOR_BGR2GRAY)\n",
    "    #deteksi wajah dengan multiscale \n",
    "    wajah = face_cascade.detectMultiScale(gambar, 1.1, 5)\n",
    "    \n",
    "    # ekstrak area wajah\n",
    "    for x, y, w, h in wajah:\n",
    "         # gambar persegi pada wajah yang terdeteksi\n",
    "        class persegi:\n",
    "            cv2.rectangle(frame, (x, y), (x + w, y + h), (252, 11, 3), 5)\n",
    "        roi_gray = gambar[y:y + h, x:x + w]\n",
    "        roi_rgb = frame[y:y + h, x:x + w]\n",
    "        # deteksi mata dengan multiscale\n",
    "        mata = eye_cascade.detectMultiScale(roi_gray, 2, 10)\n",
    "       \n",
    "        for ex, ey, ew, eh in mata:\n",
    "            # gambar persegi pada mata yang terdeteksi\n",
    "            cv2.rectangle(roi_rgb, (ex, ey), (ex + ew, ey + eh), (3, 165, 252), 3)\n",
    "            #deteksi mulut dengan multiscale\n",
    "        mulut = mouth_cascade.detectMultiScale(roi_gray, 1.1, 10)\n",
    "        for ex, ey, ew, eh in mulut:\n",
    "             cv2.rectangle(roi_rgb, (ex, ey), (ex + ew, ey + eh), (3, 165, 252), 3)\n",
    "    # tampilkan output webcam (videocapture)\n",
    "    cv2.imshow('Deteksi wajah,mata, dan mulut', frame)\n",
    "    # tekan esc untuk keluar\n",
    "    if cv2.waitKey(1)==27:\n",
    "        break\n",
    "# realese video dan tutup windows\n",
    "video_cam.release()\n",
    "cv2.destroyAllWindows()"
   ]
  },
  {
   "cell_type": "code",
   "execution_count": null,
   "id": "25df12d7",
   "metadata": {},
   "outputs": [],
   "source": []
  },
  {
   "cell_type": "code",
   "execution_count": null,
   "id": "9752b305",
   "metadata": {},
   "outputs": [],
   "source": []
  }
 ],
 "metadata": {
  "kernelspec": {
   "display_name": "Python 3 (ipykernel)",
   "language": "python",
   "name": "python3"
  },
  "language_info": {
   "codemirror_mode": {
    "name": "ipython",
    "version": 3
   },
   "file_extension": ".py",
   "mimetype": "text/x-python",
   "name": "python",
   "nbconvert_exporter": "python",
   "pygments_lexer": "ipython3",
   "version": "3.9.7"
  }
 },
 "nbformat": 4,
 "nbformat_minor": 5
}
